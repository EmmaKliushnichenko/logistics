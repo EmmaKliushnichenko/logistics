{
 "cells": [
  {
   "metadata": {},
   "cell_type": "markdown",
   "source": [
    "# Supply Chain Analysis Tutorial\n",
    "\n",
    "This notebook demonstrates how to use the custom Python package `supply_chain_tool` to analyze supply chain performance. We will:\n",
    "\n",
    "- Load and validate the data\n",
    "- Explore revenue and profitability\n",
    "- Visualize results\n",
    "- Implement a reordering algorithm\n",
    "- Used black for code formatting\n"
   ],
   "id": "4ee5b09fcd9af0d5"
  },
  {
   "metadata": {
    "ExecuteTime": {
     "end_time": "2025-03-30T10:59:43.557524Z",
     "start_time": "2025-03-30T10:59:43.553778Z"
    }
   },
   "cell_type": "code",
   "source": [
    "from supply_chain_tool.loader import SupplyChainLoader\n",
    "from supply_chain_tool.analyzer import SupplyChainAnalyzer"
   ],
   "id": "d5cc365aedbb8a38",
   "outputs": [],
   "execution_count": 2
  },
  {
   "metadata": {},
   "cell_type": "markdown",
   "source": [
    "## Data Loading and Validation\n",
    "\n",
    "We begin by loading the supply chain data set and applying basic validation to make sure that all cost values are non-negative and defect rates are within the 0–100% range."
   ],
   "id": "a6231737fc4e227d"
  },
  {
   "metadata": {
    "ExecuteTime": {
     "end_time": "2025-03-30T10:59:46.744864Z",
     "start_time": "2025-03-30T10:59:46.718167Z"
    }
   },
   "cell_type": "code",
   "source": [
    "loader = SupplyChainLoader()\n",
    "df = loader.load_data(\"data/supply_chain_data.csv\")\n",
    "df_clean = loader.validate_data(df)\n",
    "df_clean.head()"
   ],
   "id": "17ae8e98a8a5a573",
   "outputs": [
    {
     "name": "stdout",
     "output_type": "stream",
     "text": [
      "Load successful.\n"
     ]
    },
    {
     "data": {
      "text/plain": "  Product type   SKU      Price  Availability  Number of products sold  \\\n0     haircare  SKU0  69.808006            55                      802   \n1     skincare  SKU1  14.843523            95                      736   \n2     haircare  SKU2  11.319683            34                        8   \n3     skincare  SKU3  61.163343            68                       83   \n4     skincare  SKU4   4.805496            26                      871   \n\n   Revenue generated Customer demographics  Stock levels  Lead times  \\\n0        8661.996792            Non-binary            58           7   \n1        7460.900065                Female            53          30   \n2        9577.749626               Unknown             1          10   \n3        7766.836426            Non-binary            23          13   \n4        2686.505152            Non-binary             5           3   \n\n   Order quantities  ...  Location Lead time  Production volumes  \\\n0                96  ...    Mumbai        29                 215   \n1                37  ...    Mumbai        23                 517   \n2                88  ...    Mumbai        12                 971   \n3                59  ...   Kolkata        24                 937   \n4                56  ...     Delhi         5                 414   \n\n  Manufacturing lead time Manufacturing costs  Inspection results  \\\n0                      29           46.279879             Pending   \n1                      30           33.616769             Pending   \n2                      27           30.688019             Pending   \n3                      18           35.624741                Fail   \n4                       3           92.065161                Fail   \n\n   Defect rates  Transportation modes   Routes       Costs  \n0      0.226410                  Road  Route B  187.752075  \n1      4.854068                  Road  Route B  503.065579  \n2      4.580593                   Air  Route C  141.920282  \n3      4.746649                  Rail  Route A  254.776159  \n4      3.145580                   Air  Route A  923.440632  \n\n[5 rows x 24 columns]",
      "text/html": "<div>\n<style scoped>\n    .dataframe tbody tr th:only-of-type {\n        vertical-align: middle;\n    }\n\n    .dataframe tbody tr th {\n        vertical-align: top;\n    }\n\n    .dataframe thead th {\n        text-align: right;\n    }\n</style>\n<table border=\"1\" class=\"dataframe\">\n  <thead>\n    <tr style=\"text-align: right;\">\n      <th></th>\n      <th>Product type</th>\n      <th>SKU</th>\n      <th>Price</th>\n      <th>Availability</th>\n      <th>Number of products sold</th>\n      <th>Revenue generated</th>\n      <th>Customer demographics</th>\n      <th>Stock levels</th>\n      <th>Lead times</th>\n      <th>Order quantities</th>\n      <th>...</th>\n      <th>Location</th>\n      <th>Lead time</th>\n      <th>Production volumes</th>\n      <th>Manufacturing lead time</th>\n      <th>Manufacturing costs</th>\n      <th>Inspection results</th>\n      <th>Defect rates</th>\n      <th>Transportation modes</th>\n      <th>Routes</th>\n      <th>Costs</th>\n    </tr>\n  </thead>\n  <tbody>\n    <tr>\n      <th>0</th>\n      <td>haircare</td>\n      <td>SKU0</td>\n      <td>69.808006</td>\n      <td>55</td>\n      <td>802</td>\n      <td>8661.996792</td>\n      <td>Non-binary</td>\n      <td>58</td>\n      <td>7</td>\n      <td>96</td>\n      <td>...</td>\n      <td>Mumbai</td>\n      <td>29</td>\n      <td>215</td>\n      <td>29</td>\n      <td>46.279879</td>\n      <td>Pending</td>\n      <td>0.226410</td>\n      <td>Road</td>\n      <td>Route B</td>\n      <td>187.752075</td>\n    </tr>\n    <tr>\n      <th>1</th>\n      <td>skincare</td>\n      <td>SKU1</td>\n      <td>14.843523</td>\n      <td>95</td>\n      <td>736</td>\n      <td>7460.900065</td>\n      <td>Female</td>\n      <td>53</td>\n      <td>30</td>\n      <td>37</td>\n      <td>...</td>\n      <td>Mumbai</td>\n      <td>23</td>\n      <td>517</td>\n      <td>30</td>\n      <td>33.616769</td>\n      <td>Pending</td>\n      <td>4.854068</td>\n      <td>Road</td>\n      <td>Route B</td>\n      <td>503.065579</td>\n    </tr>\n    <tr>\n      <th>2</th>\n      <td>haircare</td>\n      <td>SKU2</td>\n      <td>11.319683</td>\n      <td>34</td>\n      <td>8</td>\n      <td>9577.749626</td>\n      <td>Unknown</td>\n      <td>1</td>\n      <td>10</td>\n      <td>88</td>\n      <td>...</td>\n      <td>Mumbai</td>\n      <td>12</td>\n      <td>971</td>\n      <td>27</td>\n      <td>30.688019</td>\n      <td>Pending</td>\n      <td>4.580593</td>\n      <td>Air</td>\n      <td>Route C</td>\n      <td>141.920282</td>\n    </tr>\n    <tr>\n      <th>3</th>\n      <td>skincare</td>\n      <td>SKU3</td>\n      <td>61.163343</td>\n      <td>68</td>\n      <td>83</td>\n      <td>7766.836426</td>\n      <td>Non-binary</td>\n      <td>23</td>\n      <td>13</td>\n      <td>59</td>\n      <td>...</td>\n      <td>Kolkata</td>\n      <td>24</td>\n      <td>937</td>\n      <td>18</td>\n      <td>35.624741</td>\n      <td>Fail</td>\n      <td>4.746649</td>\n      <td>Rail</td>\n      <td>Route A</td>\n      <td>254.776159</td>\n    </tr>\n    <tr>\n      <th>4</th>\n      <td>skincare</td>\n      <td>SKU4</td>\n      <td>4.805496</td>\n      <td>26</td>\n      <td>871</td>\n      <td>2686.505152</td>\n      <td>Non-binary</td>\n      <td>5</td>\n      <td>3</td>\n      <td>56</td>\n      <td>...</td>\n      <td>Delhi</td>\n      <td>5</td>\n      <td>414</td>\n      <td>3</td>\n      <td>92.065161</td>\n      <td>Fail</td>\n      <td>3.145580</td>\n      <td>Air</td>\n      <td>Route A</td>\n      <td>923.440632</td>\n    </tr>\n  </tbody>\n</table>\n<p>5 rows × 24 columns</p>\n</div>"
     },
     "execution_count": 3,
     "metadata": {},
     "output_type": "execute_result"
    }
   ],
   "execution_count": 3
  },
  {
   "metadata": {},
   "cell_type": "markdown",
   "source": [
    "## Revenue Analysis\n",
    "\n",
    "We analyze total revenue generated across different product types\n",
    "to identify which categories contribute the most to overall sales.\n"
   ],
   "id": "3f0a17ab0385317b"
  },
  {
   "metadata": {
    "ExecuteTime": {
     "end_time": "2025-03-29T14:05:50.966896Z",
     "start_time": "2025-03-29T14:05:50.960817Z"
    }
   },
   "cell_type": "code",
   "source": [
    "analyzer = SupplyChainAnalyzer()\n",
    "revenue_by_type = analyzer.revenue_by_product_type(df_clean)\n",
    "revenue_by_type"
   ],
   "id": "47a5ca24c249cec7",
   "outputs": [
    {
     "data": {
      "text/plain": [
       "  Product type  Revenue generated\n",
       "2     skincare      241628.162133\n",
       "1     haircare      174455.390605\n",
       "0    cosmetics      161521.265999"
      ],
      "text/html": [
       "<div>\n",
       "<style scoped>\n",
       "    .dataframe tbody tr th:only-of-type {\n",
       "        vertical-align: middle;\n",
       "    }\n",
       "\n",
       "    .dataframe tbody tr th {\n",
       "        vertical-align: top;\n",
       "    }\n",
       "\n",
       "    .dataframe thead th {\n",
       "        text-align: right;\n",
       "    }\n",
       "</style>\n",
       "<table border=\"1\" class=\"dataframe\">\n",
       "  <thead>\n",
       "    <tr style=\"text-align: right;\">\n",
       "      <th></th>\n",
       "      <th>Product type</th>\n",
       "      <th>Revenue generated</th>\n",
       "    </tr>\n",
       "  </thead>\n",
       "  <tbody>\n",
       "    <tr>\n",
       "      <th>2</th>\n",
       "      <td>skincare</td>\n",
       "      <td>241628.162133</td>\n",
       "    </tr>\n",
       "    <tr>\n",
       "      <th>1</th>\n",
       "      <td>haircare</td>\n",
       "      <td>174455.390605</td>\n",
       "    </tr>\n",
       "    <tr>\n",
       "      <th>0</th>\n",
       "      <td>cosmetics</td>\n",
       "      <td>161521.265999</td>\n",
       "    </tr>\n",
       "  </tbody>\n",
       "</table>\n",
       "</div>"
      ]
     },
     "execution_count": 36,
     "metadata": {},
     "output_type": "execute_result"
    }
   ],
   "execution_count": 36
  },
  {
   "metadata": {},
   "cell_type": "markdown",
   "source": [
    "## Revenue Visualization\n",
    "\n",
    "The following bar chart visualizes total revenue by product type.\n"
   ],
   "id": "3c4537fd6857cdf7"
  },
  {
   "metadata": {
    "ExecuteTime": {
     "end_time": "2025-03-29T14:05:51.084130Z",
     "start_time": "2025-03-29T14:05:51.015290Z"
    }
   },
   "cell_type": "code",
   "source": [
    "analyzer.plot_revenue_by_product_type(df_clean)"
   ],
   "id": "402ecc6a7c12588a",
   "outputs": [
    {
     "data": {
      "text/plain": [
       "<Figure size 800x500 with 1 Axes>"
      ],
      "image/png": "[encoded data removed]"
     },
     "metadata": {},
     "output_type": "display_data"
    }
   ],
   "execution_count": 37
  },
  {
   "metadata": {},
   "cell_type": "markdown",
   "source": [
    "## Profitability Analysis\n",
    "\n",
    "We now evaluate the actual profit for each product.\n",
    "Profit is calculated as:\n",
    "\n",
    "- Only non-defective units contribute to revenue\n",
    "- All units (defective or not) still incur costs\n",
    "\n",
    "We also compute:\n",
    "- **Profit per unit sold**\n",
    "- **Profit margin** (as a share of revenue)\n"
   ],
   "id": "1d30d7ca2a31cd8"
  },
  {
   "metadata": {
    "ExecuteTime": {
     "end_time": "2025-03-29T14:05:51.153421Z",
     "start_time": "2025-03-29T14:05:51.145423Z"
    }
   },
   "cell_type": "code",
   "source": [
    "ranked_profit = analyzer.ranked_profitability(df_clean)\n",
    "ranked_profit.head(5)"
   ],
   "id": "3772bb944f82746",
   "outputs": [
    {
     "data": {
      "text/plain": [
       "     SKU Product type        Profit  Profit Per Unit  Profit Margin\n",
       "0  SKU11     skincare  86864.898679        90.484269       0.998543\n",
       "1  SKU47     skincare  86184.969148        94.708757       0.993297\n",
       "2  SKU52     skincare  78077.029654        95.215890       0.992337\n",
       "3  SKU80     skincare  76411.661214        87.628052       0.989796\n",
       "4  SKU40     skincare  71449.272447        76.580142       0.992639"
      ],
      "text/html": [
       "<div>\n",
       "<style scoped>\n",
       "    .dataframe tbody tr th:only-of-type {\n",
       "        vertical-align: middle;\n",
       "    }\n",
       "\n",
       "    .dataframe tbody tr th {\n",
       "        vertical-align: top;\n",
       "    }\n",
       "\n",
       "    .dataframe thead th {\n",
       "        text-align: right;\n",
       "    }\n",
       "</style>\n",
       "<table border=\"1\" class=\"dataframe\">\n",
       "  <thead>\n",
       "    <tr style=\"text-align: right;\">\n",
       "      <th></th>\n",
       "      <th>SKU</th>\n",
       "      <th>Product type</th>\n",
       "      <th>Profit</th>\n",
       "      <th>Profit Per Unit</th>\n",
       "      <th>Profit Margin</th>\n",
       "    </tr>\n",
       "  </thead>\n",
       "  <tbody>\n",
       "    <tr>\n",
       "      <th>0</th>\n",
       "      <td>SKU11</td>\n",
       "      <td>skincare</td>\n",
       "      <td>86864.898679</td>\n",
       "      <td>90.484269</td>\n",
       "      <td>0.998543</td>\n",
       "    </tr>\n",
       "    <tr>\n",
       "      <th>1</th>\n",
       "      <td>SKU47</td>\n",
       "      <td>skincare</td>\n",
       "      <td>86184.969148</td>\n",
       "      <td>94.708757</td>\n",
       "      <td>0.993297</td>\n",
       "    </tr>\n",
       "    <tr>\n",
       "      <th>2</th>\n",
       "      <td>SKU52</td>\n",
       "      <td>skincare</td>\n",
       "      <td>78077.029654</td>\n",
       "      <td>95.215890</td>\n",
       "      <td>0.992337</td>\n",
       "    </tr>\n",
       "    <tr>\n",
       "      <th>3</th>\n",
       "      <td>SKU80</td>\n",
       "      <td>skincare</td>\n",
       "      <td>76411.661214</td>\n",
       "      <td>87.628052</td>\n",
       "      <td>0.989796</td>\n",
       "    </tr>\n",
       "    <tr>\n",
       "      <th>4</th>\n",
       "      <td>SKU40</td>\n",
       "      <td>skincare</td>\n",
       "      <td>71449.272447</td>\n",
       "      <td>76.580142</td>\n",
       "      <td>0.992639</td>\n",
       "    </tr>\n",
       "  </tbody>\n",
       "</table>\n",
       "</div>"
      ]
     },
     "execution_count": 38,
     "metadata": {},
     "output_type": "execute_result"
    }
   ],
   "execution_count": 38
  },
  {
   "metadata": {
    "ExecuteTime": {
     "end_time": "2025-03-29T14:05:51.205795Z",
     "start_time": "2025-03-29T14:05:51.200237Z"
    }
   },
   "cell_type": "code",
   "source": [
    "ranked_profit.tail(5)"
   ],
   "id": "4acfef62a0eeb2b5",
   "outputs": [
    {
     "data": {
      "text/plain": [
       "      SKU Product type      Profit  Profit Per Unit  Profit Margin\n",
       "95   SKU6     skincare  128.069209         1.970296       0.487997\n",
       "96  SKU24     haircare   77.878427         0.372624       0.093089\n",
       "97   SKU5     haircare    7.490131         0.050953       0.030830\n",
       "98   SKU2     haircare  -55.510884        -6.938861      -0.642417\n",
       "99  SKU97     haircare -328.894619        -5.304752      -1.556987"
      ],
      "text/html": [
       "<div>\n",
       "<style scoped>\n",
       "    .dataframe tbody tr th:only-of-type {\n",
       "        vertical-align: middle;\n",
       "    }\n",
       "\n",
       "    .dataframe tbody tr th {\n",
       "        vertical-align: top;\n",
       "    }\n",
       "\n",
       "    .dataframe thead th {\n",
       "        text-align: right;\n",
       "    }\n",
       "</style>\n",
       "<table border=\"1\" class=\"dataframe\">\n",
       "  <thead>\n",
       "    <tr style=\"text-align: right;\">\n",
       "      <th></th>\n",
       "      <th>SKU</th>\n",
       "      <th>Product type</th>\n",
       "      <th>Profit</th>\n",
       "      <th>Profit Per Unit</th>\n",
       "      <th>Profit Margin</th>\n",
       "    </tr>\n",
       "  </thead>\n",
       "  <tbody>\n",
       "    <tr>\n",
       "      <th>95</th>\n",
       "      <td>SKU6</td>\n",
       "      <td>skincare</td>\n",
       "      <td>128.069209</td>\n",
       "      <td>1.970296</td>\n",
       "      <td>0.487997</td>\n",
       "    </tr>\n",
       "    <tr>\n",
       "      <th>96</th>\n",
       "      <td>SKU24</td>\n",
       "      <td>haircare</td>\n",
       "      <td>77.878427</td>\n",
       "      <td>0.372624</td>\n",
       "      <td>0.093089</td>\n",
       "    </tr>\n",
       "    <tr>\n",
       "      <th>97</th>\n",
       "      <td>SKU5</td>\n",
       "      <td>haircare</td>\n",
       "      <td>7.490131</td>\n",
       "      <td>0.050953</td>\n",
       "      <td>0.030830</td>\n",
       "    </tr>\n",
       "    <tr>\n",
       "      <th>98</th>\n",
       "      <td>SKU2</td>\n",
       "      <td>haircare</td>\n",
       "      <td>-55.510884</td>\n",
       "      <td>-6.938861</td>\n",
       "      <td>-0.642417</td>\n",
       "    </tr>\n",
       "    <tr>\n",
       "      <th>99</th>\n",
       "      <td>SKU97</td>\n",
       "      <td>haircare</td>\n",
       "      <td>-328.894619</td>\n",
       "      <td>-5.304752</td>\n",
       "      <td>-1.556987</td>\n",
       "    </tr>\n",
       "  </tbody>\n",
       "</table>\n",
       "</div>"
      ]
     },
     "execution_count": 39,
     "metadata": {},
     "output_type": "execute_result"
    }
   ],
   "execution_count": 39
  },
  {
   "metadata": {},
   "cell_type": "markdown",
   "source": [
    "## Reordering Algorithm\n",
    "\n",
    "This algorithm generates a smart reorder plan for each SKU based on:\n",
    "\n",
    "- Demand (units sold)\n",
    "- Total lead time (sum of shipping, supplier, and manufacturing delays)\n",
    "- Current stock levels and product availability\n",
    "\n",
    "Products are ranked and categorized into tiers (low/medium/high),\n",
    "and assigned suggested reorder quantities if needed.\n"
   ],
   "id": "bfe8658799024c47"
  },
  {
   "metadata": {
    "ExecuteTime": {
     "end_time": "2025-03-29T14:05:59.057144Z",
     "start_time": "2025-03-29T14:05:59.042453Z"
    }
   },
   "cell_type": "code",
   "source": [
    "reorder_plan = analyzer.generate_reorder_plan(df_clean)\n",
    "reorder_plan"
   ],
   "id": "bf1872e999bc5267",
   "outputs": [
    {
     "data": {
      "text/plain": [
       "      SKU Reorder  Suggested Quantity                          Reason  \\\n",
       "0    SKU0     Yes                5228    High demand & high lead time   \n",
       "1    SKU1     Yes                6123    High demand & high lead time   \n",
       "2    SKU2     Yes                  54   Low demand & medium lead time   \n",
       "3    SKU3     Yes                 471     Low demand & high lead time   \n",
       "4    SKU4      No                   0     High demand & low lead time   \n",
       "..    ...     ...                 ...                             ...   \n",
       "95  SKU95     Yes                3912    High demand & high lead time   \n",
       "96  SKU96      No                   0  Medium demand & high lead time   \n",
       "97  SKU97      No                   0   Low demand & medium lead time   \n",
       "98  SKU98      No                   0     High demand & low lead time   \n",
       "99  SKU99      No                   0     High demand & low lead time   \n",
       "\n",
       "    Demand Rank  Lead Time Rank  \n",
       "0            20              13  \n",
       "1            24               1  \n",
       "2           100              46  \n",
       "3            92              29  \n",
       "4            17             100  \n",
       "..          ...             ...  \n",
       "95           28              22  \n",
       "96           60              22  \n",
       "97           95              65  \n",
       "98           11              75  \n",
       "99           32              73  \n",
       "\n",
       "[100 rows x 6 columns]"
      ],
      "text/html": [
       "<div>\n",
       "<style scoped>\n",
       "    .dataframe tbody tr th:only-of-type {\n",
       "        vertical-align: middle;\n",
       "    }\n",
       "\n",
       "    .dataframe tbody tr th {\n",
       "        vertical-align: top;\n",
       "    }\n",
       "\n",
       "    .dataframe thead th {\n",
       "        text-align: right;\n",
       "    }\n",
       "</style>\n",
       "<table border=\"1\" class=\"dataframe\">\n",
       "  <thead>\n",
       "    <tr style=\"text-align: right;\">\n",
       "      <th></th>\n",
       "      <th>SKU</th>\n",
       "      <th>Reorder</th>\n",
       "      <th>Suggested Quantity</th>\n",
       "      <th>Reason</th>\n",
       "      <th>Demand Rank</th>\n",
       "      <th>Lead Time Rank</th>\n",
       "    </tr>\n",
       "  </thead>\n",
       "  <tbody>\n",
       "    <tr>\n",
       "      <th>0</th>\n",
       "      <td>SKU0</td>\n",
       "      <td>Yes</td>\n",
       "      <td>5228</td>\n",
       "      <td>High demand &amp; high lead time</td>\n",
       "      <td>20</td>\n",
       "      <td>13</td>\n",
       "    </tr>\n",
       "    <tr>\n",
       "      <th>1</th>\n",
       "      <td>SKU1</td>\n",
       "      <td>Yes</td>\n",
       "      <td>6123</td>\n",
       "      <td>High demand &amp; high lead time</td>\n",
       "      <td>24</td>\n",
       "      <td>1</td>\n",
       "    </tr>\n",
       "    <tr>\n",
       "      <th>2</th>\n",
       "      <td>SKU2</td>\n",
       "      <td>Yes</td>\n",
       "      <td>54</td>\n",
       "      <td>Low demand &amp; medium lead time</td>\n",
       "      <td>100</td>\n",
       "      <td>46</td>\n",
       "    </tr>\n",
       "    <tr>\n",
       "      <th>3</th>\n",
       "      <td>SKU3</td>\n",
       "      <td>Yes</td>\n",
       "      <td>471</td>\n",
       "      <td>Low demand &amp; high lead time</td>\n",
       "      <td>92</td>\n",
       "      <td>29</td>\n",
       "    </tr>\n",
       "    <tr>\n",
       "      <th>4</th>\n",
       "      <td>SKU4</td>\n",
       "      <td>No</td>\n",
       "      <td>0</td>\n",
       "      <td>High demand &amp; low lead time</td>\n",
       "      <td>17</td>\n",
       "      <td>100</td>\n",
       "    </tr>\n",
       "    <tr>\n",
       "      <th>...</th>\n",
       "      <td>...</td>\n",
       "      <td>...</td>\n",
       "      <td>...</td>\n",
       "      <td>...</td>\n",
       "      <td>...</td>\n",
       "      <td>...</td>\n",
       "    </tr>\n",
       "    <tr>\n",
       "      <th>95</th>\n",
       "      <td>SKU95</td>\n",
       "      <td>Yes</td>\n",
       "      <td>3912</td>\n",
       "      <td>High demand &amp; high lead time</td>\n",
       "      <td>28</td>\n",
       "      <td>22</td>\n",
       "    </tr>\n",
       "    <tr>\n",
       "      <th>96</th>\n",
       "      <td>SKU96</td>\n",
       "      <td>No</td>\n",
       "      <td>0</td>\n",
       "      <td>Medium demand &amp; high lead time</td>\n",
       "      <td>60</td>\n",
       "      <td>22</td>\n",
       "    </tr>\n",
       "    <tr>\n",
       "      <th>97</th>\n",
       "      <td>SKU97</td>\n",
       "      <td>No</td>\n",
       "      <td>0</td>\n",
       "      <td>Low demand &amp; medium lead time</td>\n",
       "      <td>95</td>\n",
       "      <td>65</td>\n",
       "    </tr>\n",
       "    <tr>\n",
       "      <th>98</th>\n",
       "      <td>SKU98</td>\n",
       "      <td>No</td>\n",
       "      <td>0</td>\n",
       "      <td>High demand &amp; low lead time</td>\n",
       "      <td>11</td>\n",
       "      <td>75</td>\n",
       "    </tr>\n",
       "    <tr>\n",
       "      <th>99</th>\n",
       "      <td>SKU99</td>\n",
       "      <td>No</td>\n",
       "      <td>0</td>\n",
       "      <td>High demand &amp; low lead time</td>\n",
       "      <td>32</td>\n",
       "      <td>73</td>\n",
       "    </tr>\n",
       "  </tbody>\n",
       "</table>\n",
       "<p>100 rows × 6 columns</p>\n",
       "</div>"
      ]
     },
     "execution_count": 41,
     "metadata": {},
     "output_type": "execute_result"
    }
   ],
   "execution_count": 41
  },
  {
   "metadata": {},
   "cell_type": "markdown",
   "source": [
    "## Summary\n",
    "\n",
    "In this notebook, we demonstrated how to use the `supply_chain_tool` package to:\n",
    "\n",
    "- Load and validate supply chain data\n",
    "- Analyze and visualize revenue by product type\n",
    "- Rank products by profitability, including per-unit profit and margins\n",
    "- Generate smart reorder recommendations using custom business logic\n",
    "\n",
    "This tool provides the basics for supply chain decisions and performance evaluation.\n"
   ],
   "id": "961e2c8a0602fbf9"
  }
 ],
 "metadata": {
  "kernelspec": {
   "display_name": "Python 3",
   "language": "python",
   "name": "python3"
  },
  "language_info": {
   "codemirror_mode": {
    "name": "ipython",
    "version": 2
   },
   "file_extension": ".py",
   "mimetype": "text/x-python",
   "name": "python",
   "nbconvert_exporter": "python",
   "pygments_lexer": "ipython2",
   "version": "2.7.6"
  }
 },
 "nbformat": 4,
 "nbformat_minor": 5
}
